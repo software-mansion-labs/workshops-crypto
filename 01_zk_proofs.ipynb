{
 "cells": [
  {
   "cell_type": "code",
   "execution_count": 1,
   "metadata": {},
   "outputs": [
    {
     "ename": "AssertionError",
     "evalue": "",
     "output_type": "error",
     "traceback": [
      "\u001b[0;31m---------------------------------------------------------------------------\u001b[0m",
      "\u001b[0;31mAssertionError\u001b[0m                            Traceback (most recent call last)",
      "\u001b[0;32m/var/folders/0_/yp337wzx1ss_qgrd9kpfx9_00000gn/T/ipykernel_16869/1582445133.py\u001b[0m in \u001b[0;36m<module>\u001b[0;34m\u001b[0m\n\u001b[1;32m     36\u001b[0m \u001b[0;34m\u001b[0m\u001b[0m\n\u001b[1;32m     37\u001b[0m \u001b[0;34m\u001b[0m\u001b[0m\n\u001b[0;32m---> 38\u001b[0;31m \u001b[0mprover_tests\u001b[0m\u001b[0;34m(\u001b[0m\u001b[0mProver\u001b[0m\u001b[0;34m)\u001b[0m\u001b[0;34m\u001b[0m\u001b[0;34m\u001b[0m\u001b[0m\n\u001b[0m",
      "\u001b[0;32m~/Projects/Starkware/workshops/prover.py\u001b[0m in \u001b[0;36mprover_tests\u001b[0;34m(prover_class)\u001b[0m\n\u001b[1;32m     10\u001b[0m     \u001b[0mprover\u001b[0m \u001b[0;34m=\u001b[0m \u001b[0mprover_class\u001b[0m\u001b[0;34m(\u001b[0m\u001b[0mgraph\u001b[0m\u001b[0;34m)\u001b[0m\u001b[0;34m\u001b[0m\u001b[0;34m\u001b[0m\u001b[0m\n\u001b[1;32m     11\u001b[0m     \u001b[0mhash_root\u001b[0m \u001b[0;34m=\u001b[0m \u001b[0mprover\u001b[0m\u001b[0;34m.\u001b[0m\u001b[0mcommitment_phase\u001b[0m\u001b[0;34m(\u001b[0m\u001b[0;34m)\u001b[0m\u001b[0;34m\u001b[0m\u001b[0;34m\u001b[0m\u001b[0m\n\u001b[0;32m---> 12\u001b[0;31m     \u001b[0mtest_permutation_challange\u001b[0m\u001b[0;34m(\u001b[0m\u001b[0mprover\u001b[0m\u001b[0;34m,\u001b[0m \u001b[0mhash_root\u001b[0m\u001b[0;34m)\u001b[0m\u001b[0;34m\u001b[0m\u001b[0;34m\u001b[0m\u001b[0m\n\u001b[0m\u001b[1;32m     13\u001b[0m     \u001b[0mtest_cycle_challange\u001b[0m\u001b[0;34m(\u001b[0m\u001b[0mprover\u001b[0m\u001b[0;34m,\u001b[0m \u001b[0mhash_root\u001b[0m\u001b[0;34m)\u001b[0m\u001b[0;34m\u001b[0m\u001b[0;34m\u001b[0m\u001b[0m\n\u001b[1;32m     14\u001b[0m \u001b[0;34m\u001b[0m\u001b[0m\n",
      "\u001b[0;32m~/Projects/Starkware/workshops/prover.py\u001b[0m in \u001b[0;36mtest_permutation_challange\u001b[0;34m(prover, hash_root)\u001b[0m\n\u001b[1;32m     30\u001b[0m \u001b[0;34m\u001b[0m\u001b[0m\n\u001b[1;32m     31\u001b[0m     \u001b[0;31m# Check if commit is correct\u001b[0m\u001b[0;34m\u001b[0m\u001b[0;34m\u001b[0m\u001b[0;34m\u001b[0m\u001b[0m\n\u001b[0;32m---> 32\u001b[0;31m     \u001b[0;32massert\u001b[0m \u001b[0mhash_root\u001b[0m \u001b[0;34m==\u001b[0m \u001b[0mtree\u001b[0m\u001b[0;34m.\u001b[0m\u001b[0mget_root_hash\u001b[0m\u001b[0;34m(\u001b[0m\u001b[0;34m)\u001b[0m\u001b[0;34m\u001b[0m\u001b[0;34m\u001b[0m\u001b[0m\n\u001b[0m\u001b[1;32m     33\u001b[0m \u001b[0;34m\u001b[0m\u001b[0m\n\u001b[1;32m     34\u001b[0m \u001b[0;32mdef\u001b[0m \u001b[0mtest_cycle_challange\u001b[0m\u001b[0;34m(\u001b[0m\u001b[0mprover\u001b[0m\u001b[0;34m,\u001b[0m \u001b[0mhash_root\u001b[0m\u001b[0;34m)\u001b[0m\u001b[0;34m:\u001b[0m\u001b[0;34m\u001b[0m\u001b[0;34m\u001b[0m\u001b[0m\n",
      "\u001b[0;31mAssertionError\u001b[0m: "
     ]
    }
   ],
   "source": [
    "from typing import List\n",
    "from pymerkle import MerkleTree\n",
    "import random\n",
    "from prover import prover_tests\n",
    "\n",
    "# https://pymerkle.readthedocs.io/en/latest/\n",
    "# pip3 install pymerkle\n",
    "\n",
    "\n",
    "class Prover:\n",
    "    def __init__(self, g: List[List[int]]):\n",
    "        self.graph = g\n",
    "        self.cycle = [[0,3], [3,2], [2,1], [1, 0]]\n",
    "\n",
    "    def commitment_phase(self):\n",
    "        random.seed(555)\n",
    "        self.permutation = random.shuffle([i for i in range(len(self.graph))])\n",
    "        self.tree = MerkleTree()\n",
    "        \n",
    "        # Z permutuj graf\n",
    "        # Zakommituj z permutowany graf do merkle tree w postaci list zer i jedynek i tylko krawędzie w porządku leksykograficznym (0,0),(0,1)... \n",
    "        # Zwróć hash roota\n",
    "        return self.tree.get_root_hash()\n",
    "\n",
    "    def permutation_challange(self) -> List[int]:\n",
    "        # zwróć wykorzystaną permutację\n",
    "        pass\n",
    "\n",
    "    def cycle_challange(self) -> List:\n",
    "        # przetlumacz cykl z wykorzystaniem permutacji\n",
    "        # zwroc przetlumaczony cykl + wygenerowane dowody dla kazdego elementu cyklu\n",
    "        print(self.cycle)\n",
    "        path = self.tree.generate_audit_path(0)\n",
    "        return [([0,1], path)]\n",
    "\n",
    "\n",
    "prover_tests(Prover)\n"
   ]
  },
  {
   "cell_type": "code",
   "execution_count": null,
   "metadata": {},
   "outputs": [],
   "source": []
  }
 ],
 "metadata": {
  "kernelspec": {
   "display_name": "Python 3.7.12 64-bit ('3.7.12')",
   "language": "python",
   "name": "python3"
  },
  "language_info": {
   "codemirror_mode": {
    "name": "ipython",
    "version": 3
   },
   "file_extension": ".py",
   "mimetype": "text/x-python",
   "name": "python",
   "nbconvert_exporter": "python",
   "pygments_lexer": "ipython3",
   "version": "3.7.12"
  },
  "orig_nbformat": 4,
  "vscode": {
   "interpreter": {
    "hash": "01ef8c1b59da58caaa77ae9a443df86dec816f8ee6fec933b6b82aa35b3bb011"
   }
  }
 },
 "nbformat": 4,
 "nbformat_minor": 2
}
