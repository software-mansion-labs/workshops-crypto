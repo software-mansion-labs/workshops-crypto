{
 "cells": [
  {
   "cell_type": "markdown",
   "metadata": {},
   "source": [
    "### Zadanie 1\n",
    "Zaimplementuj siłowy test niskiego stopnia. Zweryfikuj czy podany zbiór punktów nalezy do jakiegoś wielomianu o stopniu nizszym niz `degree`\n",
    "Protokół:\n",
    "1. Wbierz losowy podzbiór `degree` punktów\n",
    "2. Dokonaj interpolacji `degree` pierwszych punktów\n",
    "3. Sprawdź czy wszystkie pozostałe punkty leza na tym wielomianie"
   ]
  },
  {
   "cell_type": "code",
   "execution_count": 2,
   "metadata": {},
   "outputs": [
    {
     "ename": "AssertionError",
     "evalue": "",
     "output_type": "error",
     "traceback": [
      "\u001b[0;31m---------------------------------------------------------------------------\u001b[0m",
      "\u001b[0;31mAssertionError\u001b[0m                            Traceback (most recent call last)",
      "\u001b[1;32m/Users/makysmiliandemitraszek/Projects/Starkware/workshops/02_polynomials.ipynb Cell 2\u001b[0m in \u001b[0;36m<cell line: 12>\u001b[0;34m()\u001b[0m\n\u001b[1;32m      <a href='vscode-notebook-cell:/Users/makysmiliandemitraszek/Projects/Starkware/workshops/02_polynomials.ipynb#ch0000004?line=6'>7</a>\u001b[0m \u001b[39mdef\u001b[39;00m \u001b[39mis_polynomial_brute\u001b[39m(degree: \u001b[39mint\u001b[39m, x: List[FElement], y: List[FElement]) \u001b[39m-\u001b[39m\u001b[39m>\u001b[39m \u001b[39mbool\u001b[39m:\n\u001b[1;32m      <a href='vscode-notebook-cell:/Users/makysmiliandemitraszek/Projects/Starkware/workshops/02_polynomials.ipynb#ch0000004?line=8'>9</a>\u001b[0m     \u001b[39mreturn\u001b[39;00m \u001b[39mTrue\u001b[39;00m\n\u001b[0;32m---> <a href='vscode-notebook-cell:/Users/makysmiliandemitraszek/Projects/Starkware/workshops/02_polynomials.ipynb#ch0000004?line=11'>12</a>\u001b[0m test_polynomial(is_polynomial_brute)\n",
      "File \u001b[0;32m~/Projects/Starkware/workshops/polynomials_test.py:6\u001b[0m, in \u001b[0;36mtest_polynomial\u001b[0;34m(is_polynomial)\u001b[0m\n\u001b[1;32m      4\u001b[0m \u001b[39mdef\u001b[39;00m \u001b[39mtest_polynomial\u001b[39m(is_polynomial):\n\u001b[1;32m      5\u001b[0m     \u001b[39massert\u001b[39;00m is_polynomial(\u001b[39m1\u001b[39m, [FElement(\u001b[39m0\u001b[39m), FElement(\u001b[39m1\u001b[39m), FElement(\u001b[39m2\u001b[39m)], [FElement(\u001b[39m1\u001b[39m), FElement(\u001b[39m1\u001b[39m), FElement(\u001b[39m1\u001b[39m)])\n\u001b[0;32m----> 6\u001b[0m     \u001b[39massert\u001b[39;00m \u001b[39mnot\u001b[39;00m is_polynomial(\u001b[39m1\u001b[39m, [FElement(\u001b[39m0\u001b[39m), FElement(\u001b[39m1\u001b[39m), FElement(\u001b[39m2\u001b[39m)], [FElement(\u001b[39m1\u001b[39m), FElement(\u001b[39m1\u001b[39m), FElement(\u001b[39m2\u001b[39m)])\n\u001b[1;32m      8\u001b[0m     d_3 \u001b[39m=\u001b[39m interpolate_poly([FElement(\u001b[39m1\u001b[39m), FElement(\u001b[39m2\u001b[39m), FElement(\u001b[39m3\u001b[39m)], [FElement(\u001b[39m2\u001b[39m), FElement(\u001b[39m1\u001b[39m), FElement(\u001b[39m2\u001b[39m)])\n\u001b[1;32m      9\u001b[0m     domain \u001b[39m=\u001b[39m \u001b[39m100\u001b[39m\n",
      "\u001b[0;31mAssertionError\u001b[0m: "
     ]
    }
   ],
   "source": [
    "from typing import List\n",
    "from random import sample\n",
    "from polynomial import Polynomial, interpolate_poly\n",
    "from field import FieldElement as FElement\n",
    "from polynomials_test import test_polynomial\n",
    "\n",
    "def is_polynomial_brute(degree: int, x: List[FElement], y: List[FElement]) -> bool:\n",
    "\n",
    "    return True\n",
    "\n",
    "test_polynomial(is_polynomial_brute)"
   ]
  },
  {
   "cell_type": "markdown",
   "metadata": {},
   "source": [
    "### Zadanie 2\n",
    "Zaimplementuj prymitywny test niskiego stopnia. Zweryfikuj czy podany zbiór punktów nalezy do jakiegoś wielomianu o stopniu nizszym niz `degree`\n",
    "\n",
    "Protokół:\n",
    "1. Wbierz losowy podzbiór `degree` + 1 punktów\n",
    "2. Dokonaj interpolacji `degree` pierwszych punktów\n",
    "3. Sprawdź czy ostatni punkt nalezy do wielomianu\n",
    "4. Powtórz test wystarczającą ilośc razy aby przeszły wszystkie testy"
   ]
  },
  {
   "cell_type": "code",
   "execution_count": 3,
   "metadata": {},
   "outputs": [
    {
     "ename": "AssertionError",
     "evalue": "",
     "output_type": "error",
     "traceback": [
      "\u001b[0;31m---------------------------------------------------------------------------\u001b[0m",
      "\u001b[0;31mAssertionError\u001b[0m                            Traceback (most recent call last)",
      "\u001b[1;32m/Users/makysmiliandemitraszek/Projects/Starkware/workshops/02_polynomials.ipynb Cell 4\u001b[0m in \u001b[0;36m<cell line: 12>\u001b[0;34m()\u001b[0m\n\u001b[1;32m      <a href='vscode-notebook-cell:/Users/makysmiliandemitraszek/Projects/Starkware/workshops/02_polynomials.ipynb#ch0000002?line=6'>7</a>\u001b[0m \u001b[39mdef\u001b[39;00m \u001b[39mis_polynomial\u001b[39m(degree: \u001b[39mint\u001b[39m, x: List[FElement], y: List[FElement]) \u001b[39m-\u001b[39m\u001b[39m>\u001b[39m \u001b[39mbool\u001b[39m:\n\u001b[1;32m      <a href='vscode-notebook-cell:/Users/makysmiliandemitraszek/Projects/Starkware/workshops/02_polynomials.ipynb#ch0000002?line=8'>9</a>\u001b[0m     \u001b[39mreturn\u001b[39;00m \u001b[39mTrue\u001b[39;00m\n\u001b[0;32m---> <a href='vscode-notebook-cell:/Users/makysmiliandemitraszek/Projects/Starkware/workshops/02_polynomials.ipynb#ch0000002?line=11'>12</a>\u001b[0m test_polynomial(is_polynomial)\n",
      "File \u001b[0;32m~/Projects/Starkware/workshops/polynomials_test.py:6\u001b[0m, in \u001b[0;36mtest_polynomial\u001b[0;34m(is_polynomial)\u001b[0m\n\u001b[1;32m      4\u001b[0m \u001b[39mdef\u001b[39;00m \u001b[39mtest_polynomial\u001b[39m(is_polynomial):\n\u001b[1;32m      5\u001b[0m     \u001b[39massert\u001b[39;00m is_polynomial(\u001b[39m1\u001b[39m, [FElement(\u001b[39m0\u001b[39m), FElement(\u001b[39m1\u001b[39m), FElement(\u001b[39m2\u001b[39m)], [FElement(\u001b[39m1\u001b[39m), FElement(\u001b[39m1\u001b[39m), FElement(\u001b[39m1\u001b[39m)])\n\u001b[0;32m----> 6\u001b[0m     \u001b[39massert\u001b[39;00m \u001b[39mnot\u001b[39;00m is_polynomial(\u001b[39m1\u001b[39m, [FElement(\u001b[39m0\u001b[39m), FElement(\u001b[39m1\u001b[39m), FElement(\u001b[39m2\u001b[39m)], [FElement(\u001b[39m1\u001b[39m), FElement(\u001b[39m1\u001b[39m), FElement(\u001b[39m2\u001b[39m)])\n\u001b[1;32m      8\u001b[0m     d_3 \u001b[39m=\u001b[39m interpolate_poly([FElement(\u001b[39m1\u001b[39m), FElement(\u001b[39m2\u001b[39m), FElement(\u001b[39m3\u001b[39m)], [FElement(\u001b[39m2\u001b[39m), FElement(\u001b[39m1\u001b[39m), FElement(\u001b[39m2\u001b[39m)])\n\u001b[1;32m      9\u001b[0m     domain \u001b[39m=\u001b[39m \u001b[39m100\u001b[39m\n",
      "\u001b[0;31mAssertionError\u001b[0m: "
     ]
    }
   ],
   "source": [
    "from typing import List\n",
    "from random import sample\n",
    "from polynomial import Polynomial, interpolate_poly\n",
    "from field import FieldElement as FElement\n",
    "from polynomials_test import test_polynomial\n",
    "\n",
    "def is_polynomial(degree: int, x: List[FElement], y: List[FElement]) -> bool:\n",
    "\n",
    "    return True\n",
    "\n",
    "\n",
    "test_polynomial(is_polynomial)"
   ]
  },
  {
   "cell_type": "code",
   "execution_count": null,
   "metadata": {},
   "outputs": [],
   "source": []
  }
 ],
 "metadata": {
  "kernelspec": {
   "display_name": "Python 3.10.4 64-bit ('3.10.4')",
   "language": "python",
   "name": "python3"
  },
  "language_info": {
   "codemirror_mode": {
    "name": "ipython",
    "version": 3
   },
   "file_extension": ".py",
   "mimetype": "text/x-python",
   "name": "python",
   "nbconvert_exporter": "python",
   "pygments_lexer": "ipython3",
   "version": "3.10.4"
  },
  "orig_nbformat": 4,
  "vscode": {
   "interpreter": {
    "hash": "cc9e0d5a4827094694717d53cd68ae500b02723c5db720c99f1b87667aadaf76"
   }
  }
 },
 "nbformat": 4,
 "nbformat_minor": 2
}
