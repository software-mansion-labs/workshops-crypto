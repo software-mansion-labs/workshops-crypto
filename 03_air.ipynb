{
 "cells": [
  {
   "cell_type": "markdown",
   "metadata": {},
   "source": [
    "Zaimplementuj AIR dla 22 elementu \n",
    "$$\n",
    "x_{n+1} = x_n^3 + 1\n",
    "$$\n",
    "$$\n",
    "x_0 = 12\n",
    "$$"
   ]
  },
  {
   "cell_type": "code",
   "execution_count": 2,
   "metadata": {},
   "outputs": [],
   "source": [
    "from typing import List\n",
    "from utils import FElement, Val\n",
    "from air_test import test_air\n",
    "\n",
    "class AIR():\n",
    "    def build_trace(self) -> List[FElement]:\n",
    "        # zwraca trace obliczeń\n",
    "        return\n",
    "\n",
    "    def resolve_constraint(self, current: Val) -> FElement:\n",
    "        next_el: Val = current.next()\n",
    "        val: FElement = current.value\n",
    "        # result ma byc zerem wtedy i tylko wtedy gdy constraint jest spełniony\n",
    "        return \n",
    "    \n",
    "    def resolve_assertions(self,trace: List[FElement]) -> List[FElement]:\n",
    "        # result ma byc wektorem zerowym wtedy i tylko wtedy gdy wszystkie assercje są spełnione\n",
    "        return \n",
    "\n",
    "test_air(AIR)"
   ]
  },
  {
   "cell_type": "code",
   "execution_count": null,
   "metadata": {},
   "outputs": [],
   "source": []
  }
 ],
 "metadata": {
  "kernelspec": {
   "display_name": "Python 3.7.12 64-bit ('3.7.12')",
   "language": "python",
   "name": "python3"
  },
  "language_info": {
   "codemirror_mode": {
    "name": "ipython",
    "version": 3
   },
   "file_extension": ".py",
   "mimetype": "text/x-python",
   "name": "python",
   "nbconvert_exporter": "python",
   "pygments_lexer": "ipython3",
   "version": "3.7.12"
  },
  "orig_nbformat": 4,
  "vscode": {
   "interpreter": {
    "hash": "01ef8c1b59da58caaa77ae9a443df86dec816f8ee6fec933b6b82aa35b3bb011"
   }
  }
 },
 "nbformat": 4,
 "nbformat_minor": 2
}
